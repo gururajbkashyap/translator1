{
 "cells": [
  {
   "cell_type": "code",
   "execution_count": 1,
   "id": "8b079c80-93a8-4bcf-8607-fe4d34f6e6a0",
   "metadata": {},
   "outputs": [
    {
     "name": "stdin",
     "output_type": "stream",
     "text": [
      "enter the text here my name is john\n"
     ]
    },
    {
     "name": "stdout",
     "output_type": "stream",
     "text": [
      "Kannada: ನನ್ನ ಹೆಸರು ಜಾನ್\n",
      "Hindi: मेरा नाम जॉन है\n",
      "Telugu: నా పేరు జాన్\n",
      "Tamil: என் பெயர் ஜான்\n"
     ]
    }
   ],
   "source": [
    "from googletrans import Translator\n",
    "\n",
    "# Create a translator object\n",
    "translator = Translator()\n",
    "\n",
    "# Define the text to be translated\n",
    "text = input(\"enter the text here\")\n",
    "\n",
    "# Define the target languages\n",
    "languages = {\n",
    "    'Kannada': 'kn',\n",
    "    'Hindi': 'hi',\n",
    "    'Telugu': 'te',\n",
    "    'Tamil': 'ta'\n",
    "}\n",
    "\n",
    "# Perform the translations\n",
    "translations = {}\n",
    "for language, code in languages.items():\n",
    "    translation = translator.translate(text, dest=code)\n",
    "    translations[language] = translation.text\n",
    "\n",
    "# Print the translations\n",
    "for language, translation in translations.items():\n",
    "    print(f\"{language}: {translation}\")\n",
    "\n",
    "\n"
   ]
  },
  {
   "cell_type": "code",
   "execution_count": null,
   "id": "e4852b8b-2526-469e-bedb-e38a6b670142",
   "metadata": {},
   "outputs": [],
   "source": []
  }
 ],
 "metadata": {
  "kernelspec": {
   "display_name": "Python 3 (ipykernel)",
   "language": "python",
   "name": "python3"
  },
  "language_info": {
   "codemirror_mode": {
    "name": "ipython",
    "version": 3
   },
   "file_extension": ".py",
   "mimetype": "text/x-python",
   "name": "python",
   "nbconvert_exporter": "python",
   "pygments_lexer": "ipython3",
   "version": "3.12.1"
  }
 },
 "nbformat": 4,
 "nbformat_minor": 5
}
